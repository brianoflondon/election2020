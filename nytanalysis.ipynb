{
 "metadata": {
  "language_info": {
   "codemirror_mode": {
    "name": "ipython",
    "version": 3
   },
   "file_extension": ".py",
   "mimetype": "text/x-python",
   "name": "python",
   "nbconvert_exporter": "python",
   "pygments_lexer": "ipython3",
   "version": "3.8.3-final"
  },
  "orig_nbformat": 2,
  "kernelspec": {
   "name": "python3",
   "display_name": "Python 3"
  }
 },
 "nbformat": 4,
 "nbformat_minor": 2,
 "cells": [
  {
   "source": [
    "### This is my work in progress exploring this dataset. \n",
    "#### Brian of London"
   ],
   "cell_type": "markdown",
   "metadata": {}
  },
  {
   "cell_type": "code",
   "execution_count": null,
   "metadata": {},
   "outputs": [],
   "source": [
    "import pandas as pd\n",
    "import csv\n",
    "import plotly as py\n",
    "import plotly.graph_objs as go\n",
    "import plotly.express as px"
   ]
  },
  {
   "cell_type": "code",
   "execution_count": null,
   "metadata": {},
   "outputs": [],
   "source": [
    "df = pd.read_csv('data/nyt_ts.csv', index_col='timestamp')\n",
    "states = df['state'].unique()"
   ]
  },
  {
   "cell_type": "code",
   "execution_count": null,
   "metadata": {},
   "outputs": [],
   "source": [
    "df['votes_prev'] = df.groupby('state')['votes'].shift(1)\n",
    "# df['votes_diff'] = df.groupby('state')['votes'].diff(1)\n",
    "filt = (df['state'] == 'new-york')\n",
    "dfs = df[filt]\n",
    "\n",
    "df['votes_diff'] = [v - vp for v,vp in zip(df['votes'],df['votes_prev'])]\n",
    "df.fillna(0, inplace=True)\n",
    "df.groupby('state').head(10)"
   ]
  },
  {
   "cell_type": "code",
   "execution_count": null,
   "metadata": {},
   "outputs": [],
   "source": [
    "# Calculate absolute vote values per time stamp\n",
    "df['trump_v'] = [round(sh * v) for sh,v in zip(df['vote_share_rep'],df['votes_diff'])]\n",
    "df['biden_v'] = [round(sh * v) for sh,v in zip(df['vote_share_dem'],df['votes_diff'])]\n",
    "df['trd_v']= [round(sh * v) for sh,v in zip(df['vote_share_trd'],df['votes_diff'])]\n",
    "df['check_v'] = [d-(a+b+c) for a,b,c,d in zip(df['trump_v'],df['biden_v'],df['trd_v'],df['votes_diff'])]\n",
    "\n",
    "df['trump_c'] = [round(sh * v) for sh,v in zip(df['vote_share_rep'],df['votes'])]\n",
    "df['biden_c'] = [round(sh * v) for sh,v in zip(df['vote_share_dem'],df['votes'])]\n",
    "df['trd_c']= [round(sh * v) for sh,v in zip(df['vote_share_trd'],df['votes'])]\n",
    "df['check_c'] = [d-(a+b+c) for a,b,c,d in zip(df['trump_c'],df['biden_c'],df['trd_c'],df['votes'])]\n",
    "\n",
    "# check_v is showing rounding errors\n",
    "df.groupby('state').last()"
   ]
  },
  {
   "cell_type": "code",
   "execution_count": null,
   "metadata": {},
   "outputs": [],
   "source": [
    "# Need to find the growing increments of votes for each time by each state\n",
    "filt = (df['state'] == 'new-york')\n",
    "dfs = df[filt]\n",
    "dfs['votes_inc'] = dfs['votes'].diff(periods=1)\n",
    "dfs"
   ]
  },
  {
   "cell_type": "code",
   "execution_count": null,
   "metadata": {},
   "outputs": [],
   "source": [
    "fig = px.scatter(df,x=dfs.index,y=dfs['votes'].diff())\n",
    "fig.show()"
   ]
  },
  {
   "cell_type": "code",
   "execution_count": null,
   "metadata": {},
   "outputs": [],
   "source": [
    "states = df['state'].unique()\n",
    "filt = (df['state'] == 'illinois')\n",
    "df[filt]"
   ]
  },
  {
   "cell_type": "code",
   "execution_count": null,
   "metadata": {},
   "outputs": [],
   "source": [
    "fig = px.scatter_3d(df, x=df.index, y=df['state'], z=df['trump_v'],color=df['state'])\n",
    "fig.show()\n",
    "\n"
   ]
  }
 ]
}